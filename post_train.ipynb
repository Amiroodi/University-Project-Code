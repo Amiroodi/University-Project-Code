{
 "cells": [
  {
   "cell_type": "code",
   "execution_count": 1,
   "id": "d5e5318c",
   "metadata": {},
   "outputs": [],
   "source": [
    "allow_train = True\n",
    "freeze_encoder = False\n",
    "EPOCHS = 10\n",
    "BATCH_SIZE = 32\n",
    "shrink_size = 20\n",
    "\n",
    "lr = 0.1\n",
    "weight_deacay = 1e-4\n",
    "T_max = 15\n",
    "eta_min = 0.001"
   ]
  },
  {
   "cell_type": "code",
   "execution_count": 2,
   "id": "cea12766",
   "metadata": {},
   "outputs": [
    {
     "name": "stderr",
     "output_type": "stream",
     "text": [
      "c:\\Users\\Amiroodi\\AppData\\Local\\Programs\\Python\\Python311\\Lib\\site-packages\\albumentations\\__init__.py:28: UserWarning: A new version of Albumentations is available: '2.0.6' (you have '2.0.5'). Upgrade using: pip install -U albumentations. To disable automatic update checks, set the environment variable NO_ALBUMENTATIONS_UPDATE to 1.\n",
      "  check_for_updates()\n"
     ]
    }
   ],
   "source": [
    "import torch\n",
    "from torch import nn\n",
    "from torchinfo import summary\n",
    "from torch.optim.lr_scheduler import CosineAnnealingLR\n",
    "\n",
    "from going_modular import engine_post_train, utils\n",
    "from going_modular import custom_data_setup_post_train\n",
    "import helper_functions"
   ]
  },
  {
   "cell_type": "code",
   "execution_count": 3,
   "id": "8a7082c8",
   "metadata": {},
   "outputs": [
    {
     "data": {
      "text/plain": [
       "'cpu'"
      ]
     },
     "execution_count": 3,
     "metadata": {},
     "output_type": "execute_result"
    }
   ],
   "source": [
    "# Setup device agnostic code\n",
    "device = \"cuda\" if torch.cuda.is_available() else \"cpu\"\n",
    "device"
   ]
  },
  {
   "cell_type": "code",
   "execution_count": 4,
   "id": "c84a5d63",
   "metadata": {},
   "outputs": [],
   "source": [
    "no_transforms = helper_functions.get_augmentation_no_transforms()"
   ]
  },
  {
   "cell_type": "code",
   "execution_count": 5,
   "id": "0fdaf5f6",
   "metadata": {},
   "outputs": [],
   "source": [
    "train_val_dataloader, class_names = custom_data_setup_post_train.create_train_val_dataloader(transform=no_transforms, batch_size=BATCH_SIZE, device=device, shrink_size=shrink_size)\n",
    "\n",
    "test_dataloader, class_names = custom_data_setup_post_train.create_test_dataloader(transform=no_transforms, batch_size=BATCH_SIZE, device=device, shrink_size=shrink_size)\n",
    "\n",
    "exp_dataloader, class_names = custom_data_setup_post_train.create_train_dataloader(transform=no_transforms, batch_size=BATCH_SIZE, device=device, shrink_size=shrink_size)"
   ]
  },
  {
   "cell_type": "code",
   "execution_count": 6,
   "id": "00b7e14d",
   "metadata": {},
   "outputs": [],
   "source": [
    "class OneHeadCNN(nn.Module):\n",
    "    def __init__(self):\n",
    "        super(OneHeadCNN, self).__init__()\n",
    "\n",
    "        self.final_head = nn.Sequential(\n",
    "            # nn.Linear(3, 10),\n",
    "            # nn.ReLU(),\n",
    "            # nn.Linear(10, 5),\n",
    "            # nn.ReLU(),\n",
    "            # nn.Linear(5, 3),\n",
    "            # nn.ReLU(),\n",
    "            nn.Linear(3, 1)\n",
    "        )\n",
    "        \n",
    "    def forward(self, x):\n",
    "        return self.final_head(x)\n",
    "\n",
    "model = OneHeadCNN().to(device)"
   ]
  },
  {
   "cell_type": "code",
   "execution_count": 7,
   "id": "9c794f53",
   "metadata": {},
   "outputs": [
    {
     "data": {
      "text/plain": [
       "OneHeadCNN(\n",
       "  (final_head): Sequential(\n",
       "    (0): Linear(in_features=3, out_features=1, bias=True)\n",
       "  )\n",
       ")"
      ]
     },
     "execution_count": 7,
     "metadata": {},
     "output_type": "execute_result"
    }
   ],
   "source": [
    "# Initialize all weights to 1/3\n",
    "def init_weights_custom(m):\n",
    "    if isinstance(m, nn.Linear):\n",
    "        nn.init.constant_(m.weight, 1/3)\n",
    "        if m.bias is not None:\n",
    "            nn.init.constant_(m.bias, 0.0)\n",
    "\n",
    "model.apply(init_weights_custom)"
   ]
  },
  {
   "cell_type": "code",
   "execution_count": 8,
   "id": "1c1071c4",
   "metadata": {},
   "outputs": [],
   "source": [
    "# Define loss and optimizer\n",
    "\n",
    "loss_fn = nn.MSELoss().to(device)\n",
    "\n",
    "optimizer = torch.optim.RAdam(model.parameters(), lr=lr, weight_decay=weight_deacay)\n",
    "scheduler = CosineAnnealingLR(optimizer, T_max=T_max, eta_min=eta_min)"
   ]
  },
  {
   "cell_type": "code",
   "execution_count": 9,
   "id": "585ba3e6",
   "metadata": {},
   "outputs": [
    {
     "data": {
      "application/vnd.jupyter.widget-view+json": {
       "model_id": "d0d993da19ef42efb194d98f5677f782",
       "version_major": 2,
       "version_minor": 0
      },
      "text/plain": [
       "  0%|          | 0/10 [00:00<?, ?it/s]"
      ]
     },
     "metadata": {},
     "output_type": "display_data"
    },
    {
     "name": "stdout",
     "output_type": "stream",
     "text": [
      "Epoch: 0\n",
      "loss_train: 7.0833 | loss_val: 1.9178 | acc_val: 0.0000\n",
      "\n",
      "Epoch: 1\n",
      "loss_train: 6.5769 | loss_val: 1.5361 | acc_val: 0.0000\n",
      "\n",
      "Epoch: 2\n",
      "loss_train: 6.1612 | loss_val: 1.2422 | acc_val: 0.0000\n",
      "\n",
      "Epoch: 3\n",
      "loss_train: 5.8214 | loss_val: 1.0259 | acc_val: 0.2500\n",
      "\n",
      "Epoch: 4\n",
      "loss_train: 5.5382 | loss_val: 0.8713 | acc_val: 0.5000\n",
      "\n",
      "Epoch: 5\n",
      "loss_train: 5.2953 | loss_val: 0.8679 | acc_val: 0.5000\n",
      "\n",
      "Epoch: 6\n",
      "loss_train: 5.2894 | loss_val: 0.8656 | acc_val: 0.5000\n",
      "\n",
      "Epoch: 7\n",
      "loss_train: 5.2820 | loss_val: 0.8643 | acc_val: 0.5000\n",
      "\n",
      "Epoch: 8\n",
      "loss_train: 5.2738 | loss_val: 0.8639 | acc_val: 0.5000\n",
      "\n",
      "Epoch: 9\n",
      "loss_train: 5.2658 | loss_val: 0.8640 | acc_val: 0.5000\n",
      "\n"
     ]
    },
    {
     "data": {
      "application/vnd.jupyter.widget-view+json": {
       "model_id": "c87f9a6be8bc4de591092a3ac5982c73",
       "version_major": 2,
       "version_minor": 0
      },
      "text/plain": [
       "  0%|          | 0/10 [00:00<?, ?it/s]"
      ]
     },
     "metadata": {},
     "output_type": "display_data"
    },
    {
     "name": "stdout",
     "output_type": "stream",
     "text": [
      "Epoch: 0\n",
      "loss_train: 4.0447 | loss_val: 5.7144 | acc_val: 0.2500\n",
      "\n",
      "Epoch: 1\n",
      "loss_train: 4.0400 | loss_val: 5.7110 | acc_val: 0.2500\n",
      "\n",
      "Epoch: 2\n",
      "loss_train: 4.0366 | loss_val: 5.7089 | acc_val: 0.2500\n",
      "\n",
      "Epoch: 3\n",
      "loss_train: 4.0343 | loss_val: 5.7079 | acc_val: 0.2500\n",
      "\n",
      "Epoch: 4\n",
      "loss_train: 4.0330 | loss_val: 5.7074 | acc_val: 0.2500\n",
      "\n",
      "Epoch: 5\n",
      "loss_train: 4.0325 | loss_val: 5.7072 | acc_val: 0.2500\n",
      "\n",
      "Epoch: 6\n",
      "loss_train: 4.0323 | loss_val: 5.7067 | acc_val: 0.2500\n",
      "\n",
      "Epoch: 7\n",
      "loss_train: 4.0317 | loss_val: 5.7056 | acc_val: 0.2500\n",
      "\n",
      "Epoch: 8\n",
      "loss_train: 4.0301 | loss_val: 5.7032 | acc_val: 0.2500\n",
      "\n",
      "Epoch: 9\n",
      "loss_train: 4.0269 | loss_val: 5.6991 | acc_val: 0.2500\n",
      "\n"
     ]
    },
    {
     "data": {
      "application/vnd.jupyter.widget-view+json": {
       "model_id": "f5ecc1a32f4e481bbe2e36c4e5def533",
       "version_major": 2,
       "version_minor": 0
      },
      "text/plain": [
       "  0%|          | 0/10 [00:00<?, ?it/s]"
      ]
     },
     "metadata": {},
     "output_type": "display_data"
    },
    {
     "name": "stdout",
     "output_type": "stream",
     "text": [
      "Epoch: 0\n",
      "loss_train: 5.2159 | loss_val: 0.9162 | acc_val: 0.2500\n",
      "\n",
      "Epoch: 1\n",
      "loss_train: 5.2072 | loss_val: 0.9103 | acc_val: 0.2500\n",
      "\n",
      "Epoch: 2\n",
      "loss_train: 5.1951 | loss_val: 0.9034 | acc_val: 0.2500\n",
      "\n",
      "Epoch: 3\n",
      "loss_train: 5.1792 | loss_val: 0.8960 | acc_val: 0.2500\n",
      "\n",
      "Epoch: 4\n",
      "loss_train: 5.1593 | loss_val: 0.8884 | acc_val: 0.2500\n",
      "\n",
      "Epoch: 5\n",
      "loss_train: 5.1355 | loss_val: 0.8810 | acc_val: 0.2500\n",
      "\n",
      "Epoch: 6\n",
      "loss_train: 5.1079 | loss_val: 0.8742 | acc_val: 0.2500\n",
      "\n",
      "Epoch: 7\n",
      "loss_train: 5.0768 | loss_val: 0.8680 | acc_val: 0.2500\n",
      "\n",
      "Epoch: 8\n",
      "loss_train: 5.0426 | loss_val: 0.8626 | acc_val: 0.2500\n",
      "\n",
      "Epoch: 9\n",
      "loss_train: 5.0059 | loss_val: 0.8579 | acc_val: 0.2500\n",
      "\n"
     ]
    },
    {
     "data": {
      "application/vnd.jupyter.widget-view+json": {
       "model_id": "b48d9aaabe6b4260bb4800859afd2432",
       "version_major": 2,
       "version_minor": 0
      },
      "text/plain": [
       "  0%|          | 0/10 [00:00<?, ?it/s]"
      ]
     },
     "metadata": {},
     "output_type": "display_data"
    },
    {
     "name": "stdout",
     "output_type": "stream",
     "text": [
      "Epoch: 0\n",
      "loss_train: 3.8096 | loss_val: 5.4523 | acc_val: 0.0000\n",
      "\n",
      "Epoch: 1\n",
      "loss_train: 3.7779 | loss_val: 5.4165 | acc_val: 0.0000\n",
      "\n",
      "Epoch: 2\n",
      "loss_train: 3.7464 | loss_val: 5.3814 | acc_val: 0.0000\n",
      "\n",
      "Epoch: 3\n",
      "loss_train: 3.7156 | loss_val: 5.3474 | acc_val: 0.0000\n",
      "\n",
      "Epoch: 4\n",
      "loss_train: 3.6865 | loss_val: 5.3151 | acc_val: 0.0000\n",
      "\n",
      "Epoch: 5\n",
      "loss_train: 3.6593 | loss_val: 5.2849 | acc_val: 0.0000\n",
      "\n",
      "Epoch: 6\n",
      "loss_train: 3.6347 | loss_val: 5.2573 | acc_val: 0.0000\n",
      "\n",
      "Epoch: 7\n",
      "loss_train: 3.6130 | loss_val: 5.2328 | acc_val: 0.0000\n",
      "\n",
      "Epoch: 8\n",
      "loss_train: 3.5944 | loss_val: 5.2121 | acc_val: 0.0000\n",
      "\n",
      "Epoch: 9\n",
      "loss_train: 3.5791 | loss_val: 5.1952 | acc_val: 0.0000\n",
      "\n"
     ]
    },
    {
     "data": {
      "application/vnd.jupyter.widget-view+json": {
       "model_id": "4a44c1cdf4f947f5b0480f18cd381be8",
       "version_major": 2,
       "version_minor": 0
      },
      "text/plain": [
       "  0%|          | 0/10 [00:00<?, ?it/s]"
      ]
     },
     "metadata": {},
     "output_type": "display_data"
    },
    {
     "name": "stdout",
     "output_type": "stream",
     "text": [
      "Epoch: 0\n",
      "loss_train: 2.9952 | loss_val: 7.4687 | acc_val: 0.2500\n",
      "\n",
      "Epoch: 1\n",
      "loss_train: 2.9860 | loss_val: 7.4621 | acc_val: 0.2500\n",
      "\n",
      "Epoch: 2\n",
      "loss_train: 2.9787 | loss_val: 7.4594 | acc_val: 0.2500\n",
      "\n",
      "Epoch: 3\n",
      "loss_train: 2.9737 | loss_val: 7.4586 | acc_val: 0.2500\n",
      "\n",
      "Epoch: 4\n",
      "loss_train: 2.9710 | loss_val: 7.4584 | acc_val: 0.2500\n",
      "\n",
      "Epoch: 5\n",
      "loss_train: 2.9699 | loss_val: 7.4585 | acc_val: 0.2500\n",
      "\n",
      "Epoch: 6\n",
      "loss_train: 2.9693 | loss_val: 7.4587 | acc_val: 0.2500\n",
      "\n",
      "Epoch: 7\n",
      "loss_train: 2.9680 | loss_val: 7.4596 | acc_val: 0.2500\n",
      "\n",
      "Epoch: 8\n",
      "loss_train: 2.9646 | loss_val: 7.4620 | acc_val: 0.2500\n",
      "\n",
      "Epoch: 9\n",
      "loss_train: 2.9576 | loss_val: 7.4673 | acc_val: 0.2500\n",
      "\n",
      "[INFO] Total training time: 0.082 seconds\n",
      "[INFO] Saving model to: models\\post_train_model.pth\n"
     ]
    }
   ],
   "source": [
    "folds_train_results = {\n",
    "    'loss_train': []\n",
    "}\n",
    "folds_val_results = {\n",
    "    'loss_val': []\n",
    "}\n",
    "if allow_train:\n",
    "    # Set the random seeds\n",
    "    torch.manual_seed(42)\n",
    "    torch.cuda.manual_seed(42)\n",
    "\n",
    "    # Start the timer\n",
    "    from timeit import default_timer as timer \n",
    "    start_time = timer()\n",
    "\n",
    "    # Setup training and save the results\n",
    "    for fold in train_val_dataloader:\n",
    "        train_results, val_results = engine_post_train.train(model=model,\n",
    "                            train_dataloader=fold['train_dataloader'],\n",
    "                            val_dataloader=fold['val_dataloader'],\n",
    "                            optimizer=optimizer,\n",
    "                            scheduler=scheduler,\n",
    "                            loss_fn=loss_fn,\n",
    "                            epochs=EPOCHS,\n",
    "                            device=device)\n",
    "        \n",
    "        folds_train_results['loss_train'].extend(train_results['loss_train'])\n",
    "\n",
    "        folds_val_results['loss_val'].extend(val_results['loss_val'])\n",
    "\n",
    "    # End the timer and print out how long it took\n",
    "    end_time = timer()\n",
    "    print(f\"[INFO] Total training time: {end_time-start_time:.3f} seconds\")\n",
    "\n",
    "    utils.save_model(model=model, target_dir='models', model_name='post_train_model.pth')\n",
    "else:\n",
    "    model.load_state_dict(torch.load('models/post_train_model.pth', weights_only=True, map_location=device))"
   ]
  },
  {
   "cell_type": "code",
   "execution_count": 10,
   "id": "ae15bc79",
   "metadata": {},
   "outputs": [
    {
     "data": {
      "image/png": "[encoded data removed]",
      "text/plain": [
       "<Figure size 1800x900 with 1 Axes>"
      ]
     },
     "metadata": {},
     "output_type": "display_data"
    }
   ],
   "source": [
    "if allow_train:\n",
    "    helper_functions.plot_loss_curves_post_train(folds_train_results, folds_val_results)"
   ]
  },
  {
   "cell_type": "code",
   "execution_count": 11,
   "id": "6073a35e",
   "metadata": {},
   "outputs": [
    {
     "name": "stdout",
     "output_type": "stream",
     "text": [
      "test acc: 0.2\n",
      "QWK score: 0.030303001403808594\n"
     ]
    }
   ],
   "source": [
    "test_results = engine_post_train.test_step(\n",
    "    model=model,\n",
    "    dataloader=exp_dataloader,\n",
    "    loss_fn=loss_fn,\n",
    "    device=device)"
   ]
  }
 ],
 "metadata": {
  "kernelspec": {
   "display_name": "Python 3",
   "language": "python",
   "name": "python3"
  },
  "language_info": {
   "codemirror_mode": {
    "name": "ipython",
    "version": 3
   },
   "file_extension": ".py",
   "mimetype": "text/x-python",
   "name": "python",
   "nbconvert_exporter": "python",
   "pygments_lexer": "ipython3",
   "version": "3.11.9"
  }
 },
 "nbformat": 4,
 "nbformat_minor": 5
}
