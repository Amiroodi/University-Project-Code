{
 "cells": [
  {
   "cell_type": "code",
   "execution_count": 1,
   "id": "d5e5318c",
   "metadata": {},
   "outputs": [],
   "source": [
    "allow_train = True\n",
    "freeze_encoder = False\n",
    "EPOCHS = 5\n",
    "BATCH_SIZE = 32\n",
    "load_pre_train_model = False"
   ]
  },
  {
   "cell_type": "code",
   "execution_count": 2,
   "id": "cea12766",
   "metadata": {},
   "outputs": [
    {
     "name": "stderr",
     "output_type": "stream",
     "text": [
      "c:\\Users\\Amiroodi\\AppData\\Local\\Programs\\Python\\Python311\\Lib\\site-packages\\albumentations\\__init__.py:28: UserWarning: A new version of Albumentations is available: '2.0.6' (you have '2.0.5'). Upgrade using: pip install -U albumentations. To disable automatic update checks, set the environment variable NO_ALBUMENTATIONS_UPDATE to 1.\n",
      "  check_for_updates()\n"
     ]
    }
   ],
   "source": [
    "import os\n",
    "import torch\n",
    "import torchvision\n",
    "from torch import nn\n",
    "import torchvision.transforms as transforms\n",
    "import matplotlib.pyplot as plt\n",
    "import albumentations as A\n",
    "from albumentations.pytorch import ToTensorV2\n",
    "import numpy as np\n",
    "from torchinfo import summary\n",
    "from going_modular import engine, engine_post_train, utils\n",
    "from going_modular import custom_data_setup_post_train\n",
    "import helper_functions"
   ]
  },
  {
   "cell_type": "code",
   "execution_count": 3,
   "id": "8a7082c8",
   "metadata": {},
   "outputs": [
    {
     "data": {
      "text/plain": [
       "'cpu'"
      ]
     },
     "execution_count": 3,
     "metadata": {},
     "output_type": "execute_result"
    }
   ],
   "source": [
    "# Setup device agnostic code\n",
    "device = \"cuda\" if torch.cuda.is_available() else \"cpu\"\n",
    "device"
   ]
  },
  {
   "cell_type": "code",
   "execution_count": 4,
   "id": "c84a5d63",
   "metadata": {},
   "outputs": [],
   "source": [
    "no_transforms = A.Compose([\n",
    "    A.Resize(240, 240),       \n",
    "    A.ToFloat(),\n",
    "    ToTensorV2()\n",
    "], seed=33)\n",
    "\n",
    "p = 0.3\n",
    "\n",
    "A_transforms = A.Compose([ \n",
    "    A.Resize(240, 240),\n",
    "    # A.OpticalDistortion(distort_limit=0.3, p=p),\n",
    "    # A.GridDistortion(num_steps=5, distort_limit=0.3, p=p),\n",
    "    # A.ElasticTransform(alpha=40, sigma=50, p=p),\n",
    "    # A.Affine(scale=[0.7, 1.4], translate_percent=[-0.05, 0.05], shear=[-15, 15], rotate=[-45, 45], p=p),\n",
    "    # A.HorizontalFlip(p=p), \n",
    "    # A.VerticalFlip(p=p), \n",
    "    # A.RGBShift(r_shift_limit=30, g_shift_limit=30, b_shift_limit=30, p=p),  \n",
    "    # A.RandomBrightnessContrast(brightness_limit=0.2, contrast_limit=0.2, p=p),  \n",
    "    # A.AdditiveNoise(noise_type='gaussian', spatial_mode='shared', approximation=1.0, noise_params={\"mean_range\": (0.0, 0.0), \"std_range\": (0.02, 0.05)}, p=p),\n",
    "    # A.GaussianBlur(blur_limit=1, p=p),\n",
    "    # A.Sharpen(alpha=(0.2, 0.5), lightness=(0.5, 1.0), p=p),  \n",
    "    # A.Emboss(alpha=(0.5, 0.6), strength=(0.6, 0.7), p=p),  \n",
    "    # A.RandomGamma(gamma_limit=(80, 120), p=p),  \n",
    "    # A.CoarseDropout(num_holes_range=(1, 2), hole_height_range=(0.1, 0.2), hole_width_range=(0.1, 0.2), fill=0, fill_mask=None, p=p),\n",
    "    A.Normalize(mean=(0.485, 0.456, 0.406), std=(0.229, 0.224, 0.225)),\n",
    "    A.ToFloat(),\n",
    "    ToTensorV2()\n",
    "], seed=33)"
   ]
  },
  {
   "cell_type": "code",
   "execution_count": 5,
   "id": "0fdaf5f6",
   "metadata": {},
   "outputs": [
    {
     "name": "stderr",
     "output_type": "stream",
     "text": [
      "d:\\University Project\\Main Project\\code\\going_modular\\custom_data_setup_post_train.py:42: FutureWarning: You are using `torch.load` with `weights_only=False` (the current default value), which uses the default pickle module implicitly. It is possible to construct malicious pickle data which will execute arbitrary code during unpickling (See https://github.com/pytorch/pytorch/blob/main/SECURITY.md#untrusted-models for more details). In a future release, the default value for `weights_only` will be flipped to `True`. This limits the functions that could be executed during unpickling. Arbitrary objects will no longer be allowed to be loaded via this mode unless they are explicitly allowlisted by the user via `torch.serialization.add_safe_globals`. We recommend you start setting `weights_only=True` for any use case where you don't have full control of the loaded file. Please open an issue on GitHub for any issues related to this experimental feature.\n",
      "  model.load_state_dict(torch.load(\"models/main_train_model.pth\", map_location=device))\n",
      "d:\\University Project\\Main Project\\code\\going_modular\\custom_data_setup_post_train.py:90: FutureWarning: You are using `torch.load` with `weights_only=False` (the current default value), which uses the default pickle module implicitly. It is possible to construct malicious pickle data which will execute arbitrary code during unpickling (See https://github.com/pytorch/pytorch/blob/main/SECURITY.md#untrusted-models for more details). In a future release, the default value for `weights_only` will be flipped to `True`. This limits the functions that could be executed during unpickling. Arbitrary objects will no longer be allowed to be loaded via this mode unless they are explicitly allowlisted by the user via `torch.serialization.add_safe_globals`. We recommend you start setting `weights_only=True` for any use case where you don't have full control of the loaded file. Please open an issue on GitHub for any issues related to this experimental feature.\n",
      "  model.load_state_dict(torch.load(\"models/main_train_model.pth\", map_location=device))\n"
     ]
    }
   ],
   "source": [
    "train_val_dataloader, class_names = custom_data_setup_post_train.create_train_val_dataloader(transform=A_transforms, batch_size=32, device=device, shrink_size=20)\n",
    "\n",
    "test_dataloader, class_names = custom_data_setup_post_train.create_test_dataloader(transform=A_transforms, batch_size=32, device=device, shrink_size=20)"
   ]
  },
  {
   "cell_type": "code",
   "execution_count": 6,
   "id": "00b7e14d",
   "metadata": {},
   "outputs": [],
   "source": [
    "class OneHeadCNN(nn.Module):\n",
    "    def __init__(self):\n",
    "        super(OneHeadCNN, self).__init__()\n",
    "\n",
    "        self.final_head = nn.Linear(3, 1)\n",
    "        # self.final_head = nn.Sequential(\n",
    "        #     nn.Linear(3, 5),\n",
    "        #     nn.ReLU(),\n",
    "        #     nn.Linear(5, 3),\n",
    "        #     nn.ReLU(),\n",
    "        #     nn.Linear(3, 1)\n",
    "        # )\n",
    "\n",
    "    def forward(self, x):\n",
    "        return self.final_head(x)\n",
    "\n",
    "model = OneHeadCNN().to(device)"
   ]
  },
  {
   "cell_type": "code",
   "execution_count": 7,
   "id": "9c794f53",
   "metadata": {},
   "outputs": [
    {
     "data": {
      "text/plain": [
       "OneHeadCNN(\n",
       "  (final_head): Linear(in_features=3, out_features=1, bias=True)\n",
       ")"
      ]
     },
     "execution_count": 7,
     "metadata": {},
     "output_type": "execute_result"
    }
   ],
   "source": [
    "# Initialize all weights to 1/3\n",
    "def init_weights_custom(m):\n",
    "    if isinstance(m, nn.Linear):\n",
    "        nn.init.constant_(m.weight, 1/3)\n",
    "        if m.bias is not None:\n",
    "            nn.init.constant_(m.bias, 0.0)\n",
    "\n",
    "model.apply(init_weights_custom)"
   ]
  },
  {
   "cell_type": "code",
   "execution_count": null,
   "id": "1c1071c4",
   "metadata": {},
   "outputs": [],
   "source": [
    "# Define loss and optimizer\n",
    "from torch.optim.lr_scheduler import CosineAnnealingLR\n",
    "\n",
    "loss_fn = nn.MSELoss().to(device)\n",
    "\n",
    "optimizer = torch.optim.RAdam(model.parameters(), lr=0.2, weight_decay=1e-3)\n",
    "scheduler = CosineAnnealingLR(optimizer, T_max=5, eta_min=0.001)"
   ]
  },
  {
   "cell_type": "code",
   "execution_count": 9,
   "id": "585ba3e6",
   "metadata": {},
   "outputs": [
    {
     "data": {
      "application/vnd.jupyter.widget-view+json": {
       "model_id": "e4798e90a61f435cb4e0c7792f5221e8",
       "version_major": 2,
       "version_minor": 0
      },
      "text/plain": [
       "  0%|          | 0/5 [00:00<?, ?it/s]"
      ]
     },
     "metadata": {},
     "output_type": "display_data"
    },
    {
     "name": "stdout",
     "output_type": "stream",
     "text": [
      "Epoch: 1\n",
      "loss_train: 0.0278 | loss_val: 0.6242 | acc_val: 0.0000\n",
      "\n",
      "Epoch: 2\n",
      "loss_train: 1.1684 | loss_val: 0.5585 | acc_val: 0.0000\n",
      "\n",
      "Epoch: 3\n",
      "loss_train: 1.0468 | loss_val: 0.2716 | acc_val: 0.7500\n",
      "\n",
      "Epoch: 4\n",
      "loss_train: 0.5157 | loss_val: 0.1249 | acc_val: 1.0000\n",
      "\n",
      "Epoch: 5\n",
      "loss_train: 0.2395 | loss_val: 0.0893 | acc_val: 1.0000\n",
      "\n"
     ]
    },
    {
     "data": {
      "application/vnd.jupyter.widget-view+json": {
       "model_id": "c1fd8430889541e9a58c9ed461e95d41",
       "version_major": 2,
       "version_minor": 0
      },
      "text/plain": [
       "  0%|          | 0/5 [00:00<?, ?it/s]"
      ]
     },
     "metadata": {},
     "output_type": "display_data"
    },
    {
     "name": "stdout",
     "output_type": "stream",
     "text": [
      "Epoch: 1\n",
      "loss_train: 0.1500 | loss_val: 0.1731 | acc_val: 1.0000\n",
      "\n",
      "Epoch: 2\n",
      "loss_train: 0.1498 | loss_val: 0.1688 | acc_val: 1.0000\n",
      "\n",
      "Epoch: 3\n",
      "loss_train: 0.1459 | loss_val: 0.1509 | acc_val: 1.0000\n",
      "\n",
      "Epoch: 4\n",
      "loss_train: 0.1295 | loss_val: 0.1153 | acc_val: 1.0000\n",
      "\n",
      "Epoch: 5\n",
      "loss_train: 0.0972 | loss_val: 0.0708 | acc_val: 1.0000\n",
      "\n"
     ]
    },
    {
     "data": {
      "application/vnd.jupyter.widget-view+json": {
       "model_id": "651d510e19034e45a678b991c04db06e",
       "version_major": 2,
       "version_minor": 0
      },
      "text/plain": [
       "  0%|          | 0/5 [00:00<?, ?it/s]"
      ]
     },
     "metadata": {},
     "output_type": "display_data"
    },
    {
     "name": "stdout",
     "output_type": "stream",
     "text": [
      "Epoch: 1\n",
      "loss_train: 0.0545 | loss_val: 0.0346 | acc_val: 1.0000\n",
      "\n",
      "Epoch: 2\n",
      "loss_train: 0.0266 | loss_val: 0.0075 | acc_val: 1.0000\n",
      "\n",
      "Epoch: 3\n",
      "loss_train: 0.0189 | loss_val: 0.0004 | acc_val: 1.0000\n",
      "\n",
      "Epoch: 4\n",
      "loss_train: 0.0250 | loss_val: 0.0002 | acc_val: 1.0000\n",
      "\n",
      "Epoch: 5\n",
      "loss_train: 0.0301 | loss_val: 0.0003 | acc_val: 1.0000\n",
      "\n"
     ]
    },
    {
     "data": {
      "application/vnd.jupyter.widget-view+json": {
       "model_id": "048eacde2d774d4482769917023183f3",
       "version_major": 2,
       "version_minor": 0
      },
      "text/plain": [
       "  0%|          | 0/5 [00:00<?, ?it/s]"
      ]
     },
     "metadata": {},
     "output_type": "display_data"
    },
    {
     "name": "stdout",
     "output_type": "stream",
     "text": [
      "Epoch: 1\n",
      "loss_train: 0.0191 | loss_val: 0.0494 | acc_val: 1.0000\n",
      "\n",
      "Epoch: 2\n",
      "loss_train: 0.0191 | loss_val: 0.0501 | acc_val: 1.0000\n",
      "\n",
      "Epoch: 3\n",
      "loss_train: 0.0193 | loss_val: 0.0499 | acc_val: 1.0000\n",
      "\n",
      "Epoch: 4\n",
      "loss_train: 0.0193 | loss_val: 0.0455 | acc_val: 1.0000\n",
      "\n",
      "Epoch: 5\n",
      "loss_train: 0.0177 | loss_val: 0.0362 | acc_val: 1.0000\n",
      "\n"
     ]
    },
    {
     "data": {
      "application/vnd.jupyter.widget-view+json": {
       "model_id": "5226ffb90668467f9010611e2090aef1",
       "version_major": 2,
       "version_minor": 0
      },
      "text/plain": [
       "  0%|          | 0/5 [00:00<?, ?it/s]"
      ]
     },
     "metadata": {},
     "output_type": "display_data"
    },
    {
     "name": "stdout",
     "output_type": "stream",
     "text": [
      "Epoch: 1\n",
      "loss_train: 0.0194 | loss_val: 0.0164 | acc_val: 1.0000\n",
      "\n",
      "Epoch: 2\n",
      "loss_train: 0.0160 | loss_val: 0.0187 | acc_val: 1.0000\n",
      "\n",
      "Epoch: 3\n",
      "loss_train: 0.0159 | loss_val: 0.0221 | acc_val: 1.0000\n",
      "\n",
      "Epoch: 4\n",
      "loss_train: 0.0172 | loss_val: 0.0234 | acc_val: 1.0000\n",
      "\n",
      "Epoch: 5\n",
      "loss_train: 0.0178 | loss_val: 0.0235 | acc_val: 1.0000\n",
      "\n",
      "[INFO] Total training time: 0.069 seconds\n",
      "[INFO] Saving model to: models\\post_train_model.pth\n"
     ]
    }
   ],
   "source": [
    "folds_train_results = {\n",
    "    'loss_train': []\n",
    "}\n",
    "folds_val_results = {\n",
    "    'loss_val': []\n",
    "}\n",
    "if allow_train:\n",
    "    # Set the random seeds\n",
    "    torch.manual_seed(42)\n",
    "    torch.cuda.manual_seed(42)\n",
    "\n",
    "    # Start the timer\n",
    "    from timeit import default_timer as timer \n",
    "    start_time = timer()\n",
    "\n",
    "    # Setup training and save the results\n",
    "    for fold in train_val_dataloader:\n",
    "        train_results, val_results = engine_post_train.train(model=model,\n",
    "                            train_dataloader=fold['train_dataloader'],\n",
    "                            val_dataloader=fold['val_dataloader'],\n",
    "                            optimizer=optimizer,\n",
    "                            scheduler=scheduler,\n",
    "                            loss_fn=loss_fn,\n",
    "                            epochs=EPOCHS,\n",
    "                            device=device)\n",
    "        \n",
    "        # helper_functions.plot_loss_curves(results)\n",
    "        folds_train_results['loss_train'].extend(train_results['loss_train'])\n",
    "\n",
    "        folds_val_results['loss_val'].extend(val_results['loss_val'])\n",
    "\n",
    "    # End the timer and print out how long it took\n",
    "    end_time = timer()\n",
    "    print(f\"[INFO] Total training time: {end_time-start_time:.3f} seconds\")\n",
    "\n",
    "    utils.save_model(model=model, target_dir='models', model_name='post_train_model.pth')\n",
    "else:\n",
    "    model.load_state_dict(torch.load('models/post_train_model.pth', weights_only=True, map_location=device))"
   ]
  },
  {
   "cell_type": "code",
   "execution_count": 10,
   "id": "ae15bc79",
   "metadata": {},
   "outputs": [
    {
     "data": {
      "image/png": "[encoded data removed]",
      "text/plain": [
       "<Figure size 1800x900 with 1 Axes>"
      ]
     },
     "metadata": {},
     "output_type": "display_data"
    }
   ],
   "source": [
    "helper_functions.plot_loss_curves_post_train(folds_train_results, folds_val_results)"
   ]
  },
  {
   "cell_type": "code",
   "execution_count": 11,
   "id": "6073a35e",
   "metadata": {},
   "outputs": [
    {
     "name": "stdout",
     "output_type": "stream",
     "text": [
      "test acc: 0.05\n"
     ]
    }
   ],
   "source": [
    "test_results = engine_post_train.test_step(model=model,\n",
    "            dataloader=test_dataloader,\n",
    "            loss_fn=loss_fn,\n",
    "            device=device)"
   ]
  },
  {
   "cell_type": "code",
   "execution_count": null,
   "id": "8f349b94",
   "metadata": {},
   "outputs": [],
   "source": []
  }
 ],
 "metadata": {
  "kernelspec": {
   "display_name": "Python 3",
   "language": "python",
   "name": "python3"
  },
  "language_info": {
   "codemirror_mode": {
    "name": "ipython",
    "version": 3
   },
   "file_extension": ".py",
   "mimetype": "text/x-python",
   "name": "python",
   "nbconvert_exporter": "python",
   "pygments_lexer": "ipython3",
   "version": "3.11.9"
  }
 },
 "nbformat": 4,
 "nbformat_minor": 5
}
